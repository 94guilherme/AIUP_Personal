{
  "metadata": {
    "language_info": {
      "codemirror_mode": {
        "name": "python",
        "version": 3
      },
      "file_extension": ".py",
      "mimetype": "text/x-python",
      "name": "python",
      "nbconvert_exporter": "python",
      "pygments_lexer": "ipython3",
      "version": "3.8"
    },
    "kernelspec": {
      "name": "python",
      "display_name": "Python (Pyodide)",
      "language": "python"
    }
  },
  "nbformat_minor": 4,
  "nbformat": 4,
  "cells": [
    {
      "cell_type": "markdown",
      "source": "# My Jupyter Notebook on IBM Watson Studio",
      "metadata": {}
    },
    {
      "cell_type": "markdown",
      "source": "**Guilherme da Silva**\n\nQuality Engineer and measurement system researcher",
      "metadata": {}
    },
    {
      "cell_type": "markdown",
      "source": "_I am interested in data science because I want to improve the methods of detecting and classifying faults in the manufacturing process through intelligent measurement systems_",
      "metadata": {}
    },
    {
      "cell_type": "markdown",
      "source": "### The code will plot the multiplication table of 2, from 1 to 10 ###",
      "metadata": {}
    },
    {
      "cell_type": "code",
      "source": "for n in range(1, 11):\n    output = 2 * n\n    print(\"2 x {} = {}\".format(n, output))",
      "metadata": {
        "trusted": true
      },
      "execution_count": 5,
      "outputs": [
        {
          "name": "stdout",
          "text": "2 x 1 = 2\n2 x 2 = 4\n2 x 3 = 6\n2 x 4 = 8\n2 x 5 = 10\n2 x 6 = 12\n2 x 7 = 14\n2 x 8 = 16\n2 x 9 = 18\n2 x 10 = 20\n",
          "output_type": "stream"
        }
      ]
    },
    {
      "cell_type": "markdown",
      "source": "* data\n* science\n* is\n* cool\n\n1. data\n1. science\n1. is\n1. cool\n1. but\n1. with\n1. numbers\n\nAnd now, a capybara:\n\n![image of a cute capybara](https://animalia-bio.us-east-1.linodeobjects.com/animals/photos/full/1.25x1/capybara-sitting-sideways-18114724916jpg.webp)\n\n\n",
      "metadata": {}
    },
    {
      "cell_type": "code",
      "source": "",
      "metadata": {},
      "execution_count": null,
      "outputs": []
    }
  ]
}